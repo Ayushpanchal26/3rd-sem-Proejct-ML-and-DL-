{
 "cells": [
  {
   "cell_type": "code",
   "execution_count": 1,
   "id": "973cac0e",
   "metadata": {},
   "outputs": [],
   "source": [
    "# Bounding box buffer\n",
    "\n",
    "BUFFER = 10"
   ]
  },
  {
   "cell_type": "code",
   "execution_count": 3,
   "id": "f3b0670e",
   "metadata": {},
   "outputs": [],
   "source": [
    "# importing libraries\n",
    "\n",
    "import pandas as pd\n",
    "import numpy as np  \n",
    "import os, sys\n",
    "import cv2\n",
    "import tensorlayer as tl\n",
    "from glob import glob\n",
    "import matplotlib.pyplot as plt"
   ]
  },
  {
   "cell_type": "code",
   "execution_count": 4,
   "id": "8eb4c4fb",
   "metadata": {
    "scrolled": true
   },
   "outputs": [
    {
     "name": "stdout",
     "output_type": "stream",
     "text": [
      "cs 2nd handshaking\n",
      "cs 2nd handshaking.rar\n",
      "cs 2nd sitting\n",
      "cs 2nd sitting.zip\n",
      "cs 2nd standing\n",
      "cs 2nd standing.zip\n",
      "cs 2nd walking\n",
      "cs 2nd walking.zip\n"
     ]
    }
   ],
   "source": [
    "import os\n",
    "from os import listdir\n",
    "\n",
    "im = []\n",
    "# get the path/directory\n",
    "folder_dir = \"dataset\"\n",
    "for images in os.listdir(folder_dir):\n",
    "    # check if the image ends with png:\n",
    "#     plt.imshow(images)\n",
    "    print(images)"
   ]
  },
  {
   "cell_type": "code",
   "execution_count": 5,
   "id": "58238672",
   "metadata": {},
   "outputs": [],
   "source": [
    "from tensorflow.keras.preprocessing.image import ImageDataGenerator,load_img\n",
    "from tensorflow.keras.preprocessing import image\n"
   ]
  },
  {
   "cell_type": "code",
   "execution_count": 7,
   "id": "c0c6a3fc",
   "metadata": {},
   "outputs": [
    {
     "data": {
      "text/plain": [
       "['cs 2nd handshaking',\n",
       " 'cs 2nd handshaking.rar',\n",
       " 'cs 2nd sitting',\n",
       " 'cs 2nd sitting.zip',\n",
       " 'cs 2nd standing',\n",
       " 'cs 2nd standing.zip',\n",
       " 'cs 2nd walking',\n",
       " 'cs 2nd walking.zip']"
      ]
     },
     "execution_count": 7,
     "metadata": {},
     "output_type": "execute_result"
    }
   ],
   "source": [
    "import os\n",
    "filelist=os.listdir('dataset')\n",
    "filelist"
   ]
  },
  {
   "cell_type": "code",
   "execution_count": 9,
   "id": "bf5614a6",
   "metadata": {},
   "outputs": [
    {
     "ename": "AttributeError",
     "evalue": "'NoneType' object has no attribute 'load_img'",
     "output_type": "error",
     "traceback": [
      "\u001b[1;31m---------------------------------------------------------------------------\u001b[0m",
      "\u001b[1;31mAttributeError\u001b[0m                            Traceback (most recent call last)",
      "Cell \u001b[1;32mIn[9], line 4\u001b[0m\n\u001b[0;32m      2\u001b[0m im \u001b[39m=\u001b[39m []\n\u001b[0;32m      3\u001b[0m \u001b[39mfor\u001b[39;00m i \u001b[39min\u001b[39;00m os\u001b[39m.\u001b[39mlistdir(folder_dir):\n\u001b[1;32m----> 4\u001b[0m     im\u001b[39m=\u001b[39mimage\u001b[39m.\u001b[39;49mload_img(\u001b[39m\"\u001b[39m\u001b[39mdataset\u001b[39m\u001b[39m\"\u001b[39m \u001b[39m+\u001b[39m i)\n\u001b[0;32m      5\u001b[0m     image \u001b[39m=\u001b[39m cv2\u001b[39m.\u001b[39mimread(i)\n\u001b[0;32m      6\u001b[0m     im\u001b[39m.\u001b[39mappend(image)\n",
      "\u001b[1;31mAttributeError\u001b[0m: 'NoneType' object has no attribute 'load_img'"
     ]
    }
   ],
   "source": [
    "folder_dir = \"dataset\"\n",
    "im = []\n",
    "for i in os.listdir(folder_dir):\n",
    "    im=image.load_img(\"dataset\" + i)\n",
    "    image = cv2.imread(i)\n",
    "    im.append(image)\n",
    "\n"
   ]
  },
  {
   "cell_type": "code",
   "execution_count": null,
   "id": "82879f38",
   "metadata": {},
   "outputs": [],
   "source": [
    "img = cv2.imread(im[0])\n",
    "img"
   ]
  },
  {
   "cell_type": "code",
   "execution_count": null,
   "id": "921acdbb",
   "metadata": {},
   "outputs": [],
   "source": [
    "from PIL import Image\n",
    "import glob\n",
    "image_list = []\n",
    "fol=\"D:\\\\Ajay Saini Sir\\\\Human Pose Detection CNN GrabCut\\\\images\"\n",
    "for filename in glob.glob(fol):\n",
    "    im=Image.open(filename)\n",
    "    image_list.append(im)\n",
    "image_list"
   ]
  },
  {
   "cell_type": "code",
   "execution_count": null,
   "id": "c95fa50a",
   "metadata": {},
   "outputs": [],
   "source": [
    "from PIL import Image\n",
    "import os, os.path\n",
    "\n",
    "imgs = []\n",
    "path = \"D:\\\\Ajay Saini Sir\\\\Human Pose Detection CNN GrabCut\\\\images\"\n",
    "# valid_images = [\".jpg\",\".gif\",\".png\",\".tga\"]\n",
    "for f in os.listdir(path):\n",
    "    ext = os.path.splitext(f)[1]\n",
    "    imgs.append(Image.open(os.path.join(path,f)))"
   ]
  },
  {
   "cell_type": "code",
   "execution_count": null,
   "id": "854784e6",
   "metadata": {},
   "outputs": [],
   "source": [
    "folders = glob('images')\n",
    "len(folders)"
   ]
  },
  {
   "cell_type": "code",
   "execution_count": null,
   "id": "57e4e819",
   "metadata": {},
   "outputs": [],
   "source": [
    "# Use the Image Data Generator to import the images from the dataset\n",
    "from tensorflow.keras.preprocessing.image import ImageDataGenerator\n",
    "\n",
    "train_datagen = ImageDataGenerator(rescale = 1./255,\n",
    "                                   shear_range = 0.2,\n",
    "                                   zoom_range = 0.2,\n",
    "                                   horizontal_flip = True)\n",
    "\n",
    "test_datagen = ImageDataGenerator(rescale = 1./255)\n",
    "#no flip and zoom for test datase"
   ]
  },
  {
   "cell_type": "code",
   "execution_count": null,
   "id": "7def1b66",
   "metadata": {},
   "outputs": [
    {
     "ename": "NameError",
     "evalue": "name 'train_datagen' is not defined",
     "output_type": "error",
     "traceback": [
      "\u001b[1;31m---------------------------------------------------------------------------\u001b[0m",
      "\u001b[1;31mNameError\u001b[0m                                 Traceback (most recent call last)",
      "\u001b[1;32m~\\AppData\\Local\\Temp\\ipykernel_108\\3280204248.py\u001b[0m in \u001b[0;36m<module>\u001b[1;34m\u001b[0m\n\u001b[0;32m      1\u001b[0m \u001b[1;31m# Make sure you provide the same target size as initialied for the image size\u001b[0m\u001b[1;33m\u001b[0m\u001b[1;33m\u001b[0m\u001b[1;33m\u001b[0m\u001b[0m\n\u001b[1;32m----> 2\u001b[1;33m training_set = train_datagen.flow_from_directory('images',\n\u001b[0m\u001b[0;32m      3\u001b[0m                                                  \u001b[0mtarget_size\u001b[0m \u001b[1;33m=\u001b[0m \u001b[1;33m(\u001b[0m\u001b[1;36m224\u001b[0m\u001b[1;33m,\u001b[0m \u001b[1;36m224\u001b[0m\u001b[1;33m)\u001b[0m\u001b[1;33m,\u001b[0m\u001b[1;33m\u001b[0m\u001b[1;33m\u001b[0m\u001b[0m\n\u001b[0;32m      4\u001b[0m                                                  \u001b[0mbatch_size\u001b[0m \u001b[1;33m=\u001b[0m \u001b[1;36m32\u001b[0m\u001b[1;33m,\u001b[0m\u001b[1;33m\u001b[0m\u001b[1;33m\u001b[0m\u001b[0m\n\u001b[0;32m      5\u001b[0m                                                  class_mode = None)\n",
      "\u001b[1;31mNameError\u001b[0m: name 'train_datagen' is not defined"
     ]
    }
   ],
   "source": [
    "# Make sure you provide the same target size as initialied for the image size\n",
    "training_set = train_datagen.flow_from_directory('images',\n",
    "                                                 target_size = (224, 224),\n",
    "                                                 batch_size = 32,\n",
    "                                                 class_mode = None)"
   ]
  },
  {
   "cell_type": "code",
   "execution_count": null,
   "id": "d989f977",
   "metadata": {},
   "outputs": [],
   "source": [
    "import cv2 \n",
    "import os \n",
    "import glob \n",
    "img_dir = \"images\" # Enter Directory of all images  \n",
    "data_path = os.path.join(img_dir,'*g') \n",
    "files = glob.glob(data_path) \n",
    "data = [] \n",
    "for f1 in files: \n",
    "    img = cv2.imread(f1) \n",
    "    data.append(img)"
   ]
  },
  {
   "cell_type": "code",
   "execution_count": null,
   "id": "d9dcd2ab",
   "metadata": {},
   "outputs": [],
   "source": [
    "data[0]"
   ]
  },
  {
   "cell_type": "code",
   "execution_count": null,
   "id": "65ae4c6f",
   "metadata": {},
   "outputs": [
    {
     "ename": "NameError",
     "evalue": "name 'annot_dir' is not defined",
     "output_type": "error",
     "traceback": [
      "\u001b[1;31m---------------------------------------------------------------------------\u001b[0m",
      "\u001b[1;31mNameError\u001b[0m                                 Traceback (most recent call last)",
      "\u001b[1;32m~\\AppData\\Local\\Temp\\ipykernel_108\\1319171860.py\u001b[0m in \u001b[0;36m<module>\u001b[1;34m\u001b[0m\n\u001b[0;32m      7\u001b[0m     \u001b[0mc_df\u001b[0m\u001b[1;33m[\u001b[0m\u001b[1;34m'exists'\u001b[0m\u001b[1;33m]\u001b[0m \u001b[1;33m=\u001b[0m \u001b[0mc_df\u001b[0m\u001b[1;33m[\u001b[0m\u001b[1;34m'path'\u001b[0m\u001b[1;33m]\u001b[0m\u001b[1;33m.\u001b[0m\u001b[0mmap\u001b[0m\u001b[1;33m(\u001b[0m\u001b[0mos\u001b[0m\u001b[1;33m.\u001b[0m\u001b[0mpath\u001b[0m\u001b[1;33m.\u001b[0m\u001b[0mexists\u001b[0m\u001b[1;33m)\u001b[0m\u001b[1;33m\u001b[0m\u001b[1;33m\u001b[0m\u001b[0m\n\u001b[0;32m      8\u001b[0m     \u001b[1;32mreturn\u001b[0m \u001b[0mc_df\u001b[0m\u001b[1;33m\u001b[0m\u001b[1;33m\u001b[0m\u001b[0m\n\u001b[1;32m----> 9\u001b[1;33m \u001b[0mall_annot_df\u001b[0m \u001b[1;33m=\u001b[0m \u001b[0mpd\u001b[0m\u001b[1;33m.\u001b[0m\u001b[0mconcat\u001b[0m\u001b[1;33m(\u001b[0m\u001b[1;33m[\u001b[0m\u001b[0mread_annot\u001b[0m\u001b[1;33m(\u001b[0m\u001b[0mc_path\u001b[0m\u001b[1;33m)\u001b[0m \u001b[1;32mfor\u001b[0m \u001b[0mc_path\u001b[0m \u001b[1;32min\u001b[0m \u001b[0mglob\u001b[0m\u001b[1;33m(\u001b[0m\u001b[0mos\u001b[0m\u001b[1;33m.\u001b[0m\u001b[0mpath\u001b[0m\u001b[1;33m.\u001b[0m\u001b[0mjoin\u001b[0m\u001b[1;33m(\u001b[0m\u001b[0mannot_dir\u001b[0m\u001b[1;33m,\u001b[0m \u001b[1;34m'*'\u001b[0m\u001b[1;33m)\u001b[0m\u001b[1;33m)\u001b[0m\u001b[1;33m]\u001b[0m\u001b[1;33m,\u001b[0m \u001b[0mignore_index\u001b[0m\u001b[1;33m=\u001b[0m\u001b[1;32mTrue\u001b[0m\u001b[1;33m)\u001b[0m\u001b[1;33m\u001b[0m\u001b[1;33m\u001b[0m\u001b[0m\n\u001b[0m\u001b[0;32m     10\u001b[0m \u001b[0mprint\u001b[0m\u001b[1;33m(\u001b[0m\u001b[0mall_annot_df\u001b[0m\u001b[1;33m.\u001b[0m\u001b[0mshape\u001b[0m\u001b[1;33m[\u001b[0m\u001b[1;36m0\u001b[0m\u001b[1;33m]\u001b[0m\u001b[1;33m,\u001b[0m \u001b[1;34m'annotations'\u001b[0m\u001b[1;33m)\u001b[0m\u001b[1;33m\u001b[0m\u001b[1;33m\u001b[0m\u001b[0m\n\u001b[0;32m     11\u001b[0m \u001b[0mprint\u001b[0m\u001b[1;33m(\u001b[0m\u001b[1;34m'Missing %2.2f%%'\u001b[0m \u001b[1;33m%\u001b[0m \u001b[1;33m(\u001b[0m\u001b[1;36m100\u001b[0m\u001b[1;33m-\u001b[0m\u001b[1;36m100\u001b[0m\u001b[1;33m*\u001b[0m\u001b[0mall_annot_df\u001b[0m\u001b[1;33m[\u001b[0m\u001b[1;34m'exists'\u001b[0m\u001b[1;33m]\u001b[0m\u001b[1;33m.\u001b[0m\u001b[0mmean\u001b[0m\u001b[1;33m(\u001b[0m\u001b[1;33m)\u001b[0m\u001b[1;33m)\u001b[0m\u001b[1;33m)\u001b[0m\u001b[1;33m\u001b[0m\u001b[1;33m\u001b[0m\u001b[0m\n",
      "\u001b[1;31mNameError\u001b[0m: name 'annot_dir' is not defined"
     ]
    }
   ],
   "source": [
    "def read_annot(in_path):\n",
    "    r_dir = os.path.splitext(os.path.basename(in_path))[0]\n",
    "    c_df = pd.read_table(in_path, header = None, sep = ' ')\n",
    "    c_df.columns = ['path' if i<0 else ('x{}'.format(i//2) if i % 2 == 0 else 'y{}'.format(i//2)) for i, x in enumerate(c_df.columns, -1)]\n",
    "    c_df['path'] = c_df['path'].map(lambda x: os.path.join(img_dir, r_dir, x))\n",
    "    c_df['group'] = r_dir\n",
    "    c_df['exists'] = c_df['path'].map(os.path.exists)\n",
    "    return c_df\n",
    "all_annot_df = pd.concat([read_annot(c_path) for c_path in glob(os.path.join(annot_dir, '*'))], ignore_index=True)\n",
    "print(all_annot_df.shape[0], 'annotations')\n",
    "print('Missing %2.2f%%' % (100-100*all_annot_df['exists'].mean()))\n",
    "all_annot_df = all_annot_df[all_annot_df['exists']].drop('exists', 1)\n",
    "all_annot_df.sample(3)"
   ]
  },
  {
   "cell_type": "code",
   "execution_count": null,
   "id": "0dc8da48",
   "metadata": {},
   "outputs": [],
   "source": []
  }
 ],
 "metadata": {
  "kernelspec": {
   "display_name": "Python 3",
   "language": "python",
   "name": "python3"
  },
  "language_info": {
   "codemirror_mode": {
    "name": "ipython",
    "version": 3
   },
   "file_extension": ".py",
   "mimetype": "text/x-python",
   "name": "python",
   "nbconvert_exporter": "python",
   "pygments_lexer": "ipython3",
   "version": "3.8.0 (tags/v3.8.0:fa919fd, Oct 14 2019, 19:37:50) [MSC v.1916 64 bit (AMD64)]"
  },
  "vscode": {
   "interpreter": {
    "hash": "9aef0d3de244d89c4798b25f16f86cbe764e740b952734f5fa558c1770e10882"
   }
  }
 },
 "nbformat": 4,
 "nbformat_minor": 5
}
